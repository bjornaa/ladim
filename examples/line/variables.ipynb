{
 "cells": [
  {
   "cell_type": "markdown",
   "metadata": {},
   "source": [
    "# The instance variable"
   ]
  },
  {
   "cell_type": "markdown",
   "metadata": {},
   "source": [
    " Start by opening the result file `line.nc` as a postladim ParticleFile and consider the X-coordinate\n",
    " as an example of an instance variable. As in pandas and xarray, both dot notation pf.X and item notation\n",
    " pf[\"X\"] can be used."
   ]
  },
  {
   "cell_type": "code",
   "execution_count": 1,
   "metadata": {},
   "outputs": [],
   "source": [
    "from postladim import ParticleFile\n",
    "pf = ParticleFile(\"line.nc\")\n",
    "X = pf[\"X\"]"
   ]
  },
  {
   "cell_type": "code",
   "execution_count": 2,
   "metadata": {},
   "outputs": [
    {
     "name": "stdout",
     "output_type": "stream",
     "text": [
      "<postladim.InstanceVariable>\n",
      "num_times: 97, particle_instance: 97000\n",
      "63.55 63.61 ... 120.73\n"
     ]
    }
   ],
   "source": [
    "# Printing the variable gives a short overview of the contents.\n",
    "print(X)"
   ]
  },
  {
   "cell_type": "code",
   "execution_count": 3,
   "metadata": {},
   "outputs": [
    {
     "data": {
      "text/plain": [
       "<xarray.DataArray 'X' (particle_instance: 97000)>\n",
       "array([ 63.55    ,  63.61    ,  63.67    , ..., 123.93593 , 123.914566,\n",
       "       120.73037 ], dtype=float32)\n",
       "Dimensions without coordinates: particle_instance\n",
       "Attributes:\n",
       "    long_name:  particle X-coordinate"
      ]
     },
     "execution_count": 3,
     "metadata": {},
     "output_type": "execute_result"
    }
   ],
   "source": [
    "# The underlying xarray DataArray is available as the da attribute\n",
    "\n",
    "X.da"
   ]
  },
  {
   "cell_type": "markdown",
   "metadata": {},
   "source": [
    "The most usual thing to do with an instance variable\n",
    "to get the data at a certain timestep. This is returned\n",
    "as an xarray DataArray."
   ]
  },
  {
   "cell_type": "code",
   "execution_count": 4,
   "metadata": {},
   "outputs": [
    {
     "data": {
      "text/plain": [
       "<xarray.DataArray 'X' (pid: 1000)>\n",
       "array([ 63.488968,  63.550514,  63.61234 , ..., 123.28139 , 123.357155,\n",
       "       123.434525], dtype=float32)\n",
       "Coordinates:\n",
       "    time     datetime64[ns] 1989-05-24T21:00:00\n",
       "  * pid      (pid) int32 0 1 2 3 4 5 6 7 8 ... 992 993 994 995 996 997 998 999\n",
       "Attributes:\n",
       "    long_name:  particle X-coordinate"
      ]
     },
     "execution_count": 4,
     "metadata": {},
     "output_type": "execute_result"
    }
   ],
   "source": [
    "# Get all values at timestep 4\n",
    "\n",
    "X[3]"
   ]
  },
  {
   "cell_type": "markdown",
   "metadata": {},
   "source": [
    "Slicing also works and returns a new InstanceVariable.\n",
    "Note that the step size in a slice must be one."
   ]
  },
  {
   "cell_type": "code",
   "execution_count": 5,
   "metadata": {},
   "outputs": [
    {
     "data": {
      "text/plain": [
       "<postladim.InstanceVariable>\n",
       "num_times: 7, particle_instance: 7000\n",
       "63.489 63.5505 ... 123.435"
      ]
     },
     "execution_count": 5,
     "metadata": {},
     "output_type": "execute_result"
    }
   ],
   "source": [
    "X[3:10]"
   ]
  },
  {
   "cell_type": "markdown",
   "metadata": {},
   "source": [
    "The data structure is optimized for information at a fixed time step.\n",
    "It is also possible to follow a trajectory, a fixed particle id.\n",
    " This is done by the `sel` method."
   ]
  },
  {
   "cell_type": "code",
   "execution_count": 6,
   "metadata": {},
   "outputs": [
    {
     "data": {
      "text/plain": [
       "<xarray.DataArray (time: 97)>\n",
       "array([63.97    , 63.954174, 63.93797 , 63.921387, 63.904423, 63.887077,\n",
       "       63.869343, 63.851204, 63.83264 , 63.81364 , 63.794178, 63.77421 ,\n",
       "       63.753716, 63.732643, 63.71094 , 63.688557, 63.66542 , 63.641457,\n",
       "       63.616573, 63.590675, 63.563644, 63.535343, 63.505623, 63.47447 ,\n",
       "       63.44186 , 63.40774 , 63.37237 , 63.33579 , 63.298004, 63.259018,\n",
       "       63.218807, 63.177334, 63.13453 , 63.09031 , 63.04448 , 62.9969  ,\n",
       "       62.947502, 62.896248, 62.843105, 62.788036, 62.731   , 62.67194 ,\n",
       "       62.610798, 62.547516, 62.480476, 62.413597, 62.34673 , 62.279694,\n",
       "       62.212296, 62.144424, 62.075985, 62.00664 , 61.936066, 61.86398 ,\n",
       "       61.790157, 61.7156  , 61.64118 , 61.56707 , 61.49349 , 61.42508 ,\n",
       "       61.362988, 61.307117, 61.25743 , 61.21391 , 61.17657 , 61.144608,\n",
       "       61.119007, 61.10037 , 61.088745, 61.08419 , 61.086742, 61.09641 ,\n",
       "       61.10916 , 61.10936 , 61.09326 , 61.061573, 61.014076, 60.948147,\n",
       "       60.862072, 60.76143 , 60.649105, 60.528294, 60.406372, 60.293938,\n",
       "       60.193283, 60.105526, 60.030952, 59.96935 , 59.926655, 59.893055,\n",
       "       59.866474, 59.84525 , 59.828007, 59.813618, 59.8011  , 59.789616,\n",
       "       59.778324], dtype=float32)\n",
       "Coordinates:\n",
       "  * time     (time) datetime64[ns] 1989-05-24T12:00:00 ... 1989-06-05T12:00:00\n",
       "    pid      int64 7"
      ]
     },
     "execution_count": 6,
     "metadata": {},
     "output_type": "execute_result"
    }
   ],
   "source": [
    "\n",
    "X.sel(pid=7)\n",
    "\n",
    "\n"
   ]
  },
  {
   "cell_type": "markdown",
   "metadata": {},
   "source": [
    "The 'sel' and 'isel' method tries to follow xarray notation"
   ]
  },
  {
   "cell_type": "code",
   "execution_count": 7,
   "metadata": {},
   "outputs": [
    {
     "name": "stdout",
     "output_type": "stream",
     "text": [
      "<xarray.DataArray 'X' (pid: 1000)>\n",
      "array([ 63.488968,  63.550514,  63.61234 , ..., 123.28139 , 123.357155,\n",
      "       123.434525], dtype=float32)\n",
      "Coordinates:\n",
      "    time     datetime64[ns] 1989-05-24T21:00:00\n",
      "  * pid      (pid) int32 0 1 2 3 4 5 6 7 8 ... 992 993 994 995 996 997 998 999\n",
      "Attributes:\n",
      "    long_name:  particle X-coordinate\n"
     ]
    },
    {
     "data": {
      "text/plain": [
       "<xarray.DataArray 'X' ()>\n",
       "array(63.921387, dtype=float32)\n",
       "Coordinates:\n",
       "    time     datetime64[ns] 1989-05-24T21:00:00\n",
       "    pid      int32 7\n",
       "Attributes:\n",
       "    long_name:  particle X-coordinate"
      ]
     },
     "execution_count": 7,
     "metadata": {},
     "output_type": "execute_result"
    }
   ],
   "source": [
    "# This is X[3]\n",
    "print(X.sel(time=\"1989-05-24T21\"))\n",
    "\n",
    "# This is X[3, 7]\n",
    "X.sel(time=\"1989-05-24T21\", pid=7)"
   ]
  },
  {
   "cell_type": "markdown",
   "metadata": {},
   "source": [
    "Note that X[3, 7] is in general **not** equal to X[3][7]\n",
    "\n",
    " X[3][7] is the X value of the eighth particle at the fourth time step.\n",
    " X[3, 7] is the X value of the particle with particle identifier 7 at the fourth time\n",
    " step.\n",
    " If particles has been removed from the simulation, the eight particle may have a larger pid\n",
    " then 7. In our case, they are the same."
   ]
  },
  {
   "cell_type": "code",
   "execution_count": 8,
   "metadata": {},
   "outputs": [
    {
     "name": "stdout",
     "output_type": "stream",
     "text": [
      "<xarray.DataArray 'X' ()>\n",
      "array(63.921387, dtype=float32)\n",
      "Coordinates:\n",
      "    time     datetime64[ns] 1989-05-24T21:00:00\n",
      "    pid      int32 7\n",
      "Attributes:\n",
      "    long_name:  particle X-coordinate\n",
      "<xarray.DataArray 'X' ()>\n",
      "array(63.921387, dtype=float32)\n",
      "Coordinates:\n",
      "    time     datetime64[ns] 1989-05-24T21:00:00\n",
      "    pid      int32 7\n",
      "Attributes:\n",
      "    long_name:  particle X-coordinate\n",
      "<xarray.DataArray ()>\n",
      "array(63.921387, dtype=float32)\n",
      "Coordinates:\n",
      "    time     datetime64[ns] 1989-05-24T21:00:00\n",
      "    pid      int64 7\n"
     ]
    }
   ],
   "source": [
    "# These are equal\n",
    "print(X[3, 7])\n",
    "print(X.isel(time=3).sel(pid=7))\n",
    "print(X.sel(pid=7).isel(time=3))"
   ]
  },
  {
   "cell_type": "markdown",
   "metadata": {},
   "source": [
    " It is interesting to look at the timings. The two first are equal\n",
    " (same implementation (SJEKK). The last take 100 times more.\n",
    " The reason is that it first has to select values for pid=7 at all time steps, a slow operation."
   ]
  },
  {
   "cell_type": "code",
   "execution_count": 12,
   "metadata": {},
   "outputs": [
    {
     "name": "stdout",
     "output_type": "stream",
     "text": [
      "1.41 ms ± 60.6 µs per loop (mean ± std. dev. of 7 runs, 1000 loops each)\n",
      "1.39 ms ± 17.2 µs per loop (mean ± std. dev. of 7 runs, 1000 loops each)\n",
      "144 ms ± 280 µs per loop (mean ± std. dev. of 7 runs, 10 loops each)\n"
     ]
    },
    {
     "data": {
      "text/plain": [
       "<TimeitResult : 144 ms ± 280 µs per loop (mean ± std. dev. of 7 runs, 10 loops each)>"
      ]
     },
     "execution_count": 12,
     "metadata": {},
     "output_type": "execute_result"
    }
   ],
   "source": [
    "%timeit -o X[3, 7]\n",
    "%timeit -o X.isel(time=3).sel(pid=7)\n",
    "%timeit -o X.sel(pid=7).isel(time=3);"
   ]
  },
  {
   "cell_type": "code",
   "execution_count": 10,
   "metadata": {},
   "outputs": [
    {
     "name": "stdout",
     "output_type": "stream",
     "text": [
      "<xarray.DataArray 'X' ()>\n",
      "array(63.921387, dtype=float32)\n",
      "Coordinates:\n",
      "    time     datetime64[ns] 1989-05-24T21:00:00\n",
      "    pid      int32 7\n",
      "Attributes:\n",
      "    long_name:  particle X-coordinate\n",
      "<xarray.DataArray 'X' ()>\n",
      "array(63.921387, dtype=float32)\n",
      "Coordinates:\n",
      "    time     datetime64[ns] 1989-05-24T21:00:00\n",
      "    pid      int32 7\n",
      "Attributes:\n",
      "    long_name:  particle X-coordinate\n"
     ]
    }
   ],
   "source": [
    "# These are equal.\n",
    "# Note that X.isel(pid=7) is not defined\n",
    "print(X[3][7])\n",
    "print(X.isel(time=3).isel(pid=7))"
   ]
  },
  {
   "cell_type": "markdown",
   "metadata": {},
   "source": [
    "The InstanceVariable can be returned as a full 2D DataArray.\n",
    "This makes it equally simple to extract trajectories as time snapshots.\n",
    "\n",
    "Note that for a long simulation with continuous particle release and\n",
    "extensive particle death, this array may become very large."
   ]
  },
  {
   "cell_type": "code",
   "execution_count": 11,
   "metadata": {},
   "outputs": [
    {
     "data": {
      "text/plain": [
       "<xarray.DataArray (time: 97, pid: 1000)>\n",
       "array([[ 63.54999924,  63.61000061,  63.66999817, ..., 123.33000183,\n",
       "        123.38999939, 123.44999695],\n",
       "       [ 63.52970123,  63.59034348,  63.6509819 , ..., 123.31063843,\n",
       "        123.37738037, 123.4442215 ],\n",
       "       [ 63.50925827,  63.57050705,  63.63175583, ..., 123.29421234,\n",
       "        123.3663559 , 123.43903351],\n",
       "       ...,\n",
       "       [ 59.93954849,  59.89281082,  59.86213303, ..., 123.93592834,\n",
       "        123.91456604, 120.77573395],\n",
       "       [ 59.91397476,  59.8729248 ,  59.84598541, ..., 123.93592834,\n",
       "        123.91456604, 120.7530899 ],\n",
       "       [ 59.89163208,  59.8551445 ,  59.8312149 , ..., 123.93592834,\n",
       "        123.91456604, 120.73036957]])\n",
       "Coordinates:\n",
       "  * time     (time) datetime64[ns] 1989-05-24T12:00:00 ... 1989-06-05T12:00:00\n",
       "  * pid      (pid) int32 0 1 2 3 4 5 6 7 8 ... 992 993 994 995 996 997 998 999"
      ]
     },
     "execution_count": 11,
     "metadata": {},
     "output_type": "execute_result"
    }
   ],
   "source": [
    "X.full()"
   ]
  }
 ],
 "metadata": {
  "file_extension": ".py",
  "kernelspec": {
   "display_name": "Python 3",
   "language": "python",
   "name": "python3"
  },
  "language_info": {
   "codemirror_mode": {
    "name": "ipython",
    "version": 3
   },
   "file_extension": ".py",
   "mimetype": "text/x-python",
   "name": "python",
   "nbconvert_exporter": "python",
   "pygments_lexer": "ipython3",
   "version": "3.7.4"
  },
  "mimetype": "text/x-python",
  "name": "python",
  "npconvert_exporter": "python",
  "pygments_lexer": "ipython3",
  "version": 3
 },
 "nbformat": 4,
 "nbformat_minor": 2
}
