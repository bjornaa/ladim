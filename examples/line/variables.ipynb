{
 "cells": [
  {
   "cell_type": "markdown",
   "metadata": {},
   "source": [
    "# The instance variable"
   ]
  },
  {
   "cell_type": "markdown",
   "metadata": {},
   "source": [
    " Start by opening the result file `line.nc` as a postladim ParticleFile and consider the X-coordinate\n",
    " as an example of an instance variable. As in pandas and xarray, both dot notation pf.X and item notation\n",
    " pf[\"X\"] can be used."
   ]
  },
  {
   "cell_type": "code",
   "execution_count": null,
   "metadata": {},
   "outputs": [],
   "source": [
    "from postladim import ParticleFile\n",
    "pf = ParticleFile(\"line.nc\")\n",
    "X = pf[\"X\"]"
   ]
  },
  {
   "cell_type": "code",
   "execution_count": null,
   "metadata": {},
   "outputs": [],
   "source": [
    "# Printing the variable gives a short overview of the contents.\n",
    "print(X)"
   ]
  },
  {
   "cell_type": "code",
   "execution_count": null,
   "metadata": {},
   "outputs": [],
   "source": [
    "# The underlying xarray DataArray is available as the da attribute\n",
    "\n",
    "X.da"
   ]
  },
  {
   "cell_type": "markdown",
   "metadata": {},
   "source": [
    "The most usual thing to do with an instance variable\n",
    "to get the data at a certain timestep. This is returned\n",
    "as an xarray DataArray."
   ]
  },
  {
   "cell_type": "code",
   "execution_count": null,
   "metadata": {},
   "outputs": [],
   "source": [
    "# Get all values at timestep 4\n",
    "\n",
    "X[3]"
   ]
  },
  {
   "cell_type": "markdown",
   "metadata": {},
   "source": [
    "Slicing also works and returns a new InstanceVariable.\n",
    "Note that the step size in a slice must be one."
   ]
  },
  {
   "cell_type": "code",
   "execution_count": null,
   "metadata": {},
   "outputs": [],
   "source": [
    "X[3:10]"
   ]
  },
  {
   "cell_type": "markdown",
   "metadata": {},
   "source": [
    "The data structure is optimized for information at a fixed time step.\n",
    "It is also possible to follow a trajectory, a fixed particle id.\n",
    " This is done by the `sel` method."
   ]
  },
  {
   "cell_type": "code",
   "execution_count": null,
   "metadata": {},
   "outputs": [],
   "source": [
    "\n",
    "X.sel(pid=7)\n",
    "\n",
    "\n"
   ]
  },
  {
   "cell_type": "markdown",
   "metadata": {},
   "source": [
    "The 'sel' and 'isel' method tries to follow xarray notation"
   ]
  },
  {
   "cell_type": "code",
   "execution_count": null,
   "metadata": {},
   "outputs": [],
   "source": [
    "# This is X[3]\n",
    "print(X.sel(time=\"1989-05-24T21\"))\n",
    "\n",
    "# This is X[3, 7]\n",
    "X.sel(time=\"1989-05-24T21\", pid=7)"
   ]
  },
  {
   "cell_type": "markdown",
   "metadata": {},
   "source": [
    "Note that X[3, 7] is in general **not** equal to X[3][7]\n",
    "\n",
    " X[3][7] is the X value of the eighth particle at the fourth time step.\n",
    " X[3, 7] is the X value of the particle with particle identifier 7 at the fourth time\n",
    " step.\n",
    " If particles has been removed from the simulation, the eight particle may have a larger pid\n",
    " then 7. In our case, they are the same."
   ]
  },
  {
   "cell_type": "code",
   "execution_count": null,
   "metadata": {},
   "outputs": [],
   "source": [
    "# These are equal\n",
    "print(X[3, 7])\n",
    "print(X.isel(time=3).sel(pid=7))\n",
    "print(X.sel(pid=7).isel(time=3))"
   ]
  },
  {
   "cell_type": "markdown",
   "metadata": {},
   "source": [
    " It is interesting to look at the timings. The two first are equal\n",
    " (same implementation (SJEKK). The last take 100 times more.\n",
    " The reason is that it first has to select values for pid=7 at all time steps, a slow operation."
   ]
  },
  {
   "cell_type": "code",
   "execution_count": null,
   "metadata": {},
   "outputs": [],
   "source": [
    "%timeit -o X[3, 7]\n",
    "%timeit -o X.isel(time=3).sel(pid=7)\n",
    "%timeit -o X.sel(pid=7).isel(time=3)"
   ]
  },
  {
   "cell_type": "code",
   "execution_count": null,
   "metadata": {},
   "outputs": [],
   "source": [
    "# These are equal.\n",
    "# Note that X.isel(pid=7) is not defined\n",
    "print(X[3][7])\n",
    "print(X.isel(time=3).isel(pid=7))"
   ]
  },
  {
   "cell_type": "markdown",
   "metadata": {},
   "source": [
    "The InstanceVariable can be returned as a full 2D DataArray.\n",
    "This makes it equally simple to extract trajectories as time snapshots.\n",
    "\n",
    "Note that for a long simulation with continuous particle release and\n",
    "extensive particle death, this array may become very large."
   ]
  },
  {
   "cell_type": "code",
   "execution_count": null,
   "metadata": {},
   "outputs": [],
   "source": [
    "X.full()"
   ]
  }
 ],
 "metadata": {
  "file_extension": ".py",
  "kernelspec": {
   "display_name": "Python 3",
   "language": "python",
   "name": "python3"
  },
  "language_info": {
   "codemirror_mode": {
    "name": "ipython",
    "version": 3
   },
   "file_extension": ".py",
   "mimetype": "text/x-python",
   "name": "python",
   "nbconvert_exporter": "python",
   "pygments_lexer": "ipython3",
   "version": "3.7.4"
  },
  "mimetype": "text/x-python",
  "name": "python",
  "npconvert_exporter": "python",
  "pygments_lexer": "ipython3",
  "version": 3
 },
 "nbformat": 4,
 "nbformat_minor": 2
}
