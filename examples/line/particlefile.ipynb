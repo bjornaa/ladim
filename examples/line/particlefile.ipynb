{
 "cells": [
  {
   "cell_type": "markdown",
   "metadata": {},
   "source": [
    "# ParticleFile\n",
    "\n",
    "This notebook demonstrates how to work with LADiM result files, using the `ParticleFile` class in the `postladim` package."
   ]
  },
  {
   "cell_type": "markdown",
   "metadata": {},
   "source": [
    "Create a poostladim ``ParticleFile`` from a LADiM result file, here `line.nc`."
   ]
  },
  {
   "cell_type": "code",
   "execution_count": 1,
   "metadata": {},
   "outputs": [],
   "source": [
    "from postladim import ParticleFile\n",
    "pf = ParticleFile(\"line.nc\")"
   ]
  },
  {
   "cell_type": "markdown",
   "metadata": {},
   "source": [
    "Just typing `pf`gives a short overview of the file content. "
   ]
  },
  {
   "cell_type": "code",
   "execution_count": 2,
   "metadata": {},
   "outputs": [
    {
     "data": {
      "text/plain": [
       "<postladim.ParticleFile>\n",
       "num_times: 97, num_particles: 1000\n",
       "time: 1989-05-24T12 1989-05-24T15 ... 1989-06-05T12\n",
       "count: 1000 1000 ... 1000\n",
       "Instance variables:\n",
       "  pid              0 1 ... 999\n",
       "  X                63.55 63.61 ... 120.73\n",
       "  Y                90 90 ... 93.8958\n",
       "  Z                5 5 ... 5\n",
       "Particle variables:\n",
       "  release_time     1989-05-24T12 1989-05-24T12 ... 1989-05-24T12\n",
       "Attributes:\n",
       "  Conventions      CF-1.5\n",
       "  institution      Institute of Marine Research\n",
       "  source           Lagrangian Advection and Diffusion Model, python version\n",
       "  history          Created by pyladim\n",
       "  date             2019-09-25"
      ]
     },
     "execution_count": 2,
     "metadata": {},
     "output_type": "execute_result"
    }
   ],
   "source": [
    "pf"
   ]
  },
  {
   "cell_type": "markdown",
   "metadata": {},
   "source": [
    "We see that the file contains data at 97 time steps, starting with 1980-05-24 12:00:00.\n",
    "All 1000 particles are released initally and stay alive throughout the simulation.  "
   ]
  },
  {
   "cell_type": "markdown",
   "metadata": {},
   "source": [
    "The information is available separately"
   ]
  },
  {
   "cell_type": "code",
   "execution_count": 3,
   "metadata": {},
   "outputs": [
    {
     "name": "stdout",
     "output_type": "stream",
     "text": [
      "Number of time steps:  97\n"
     ]
    }
   ],
   "source": [
    "print(\"Number of time steps: \", len(pf))"
   ]
  },
  {
   "cell_type": "code",
   "execution_count": 4,
   "metadata": {},
   "outputs": [
    {
     "name": "stdout",
     "output_type": "stream",
     "text": [
      "Total number of particles:  1000\n"
     ]
    }
   ],
   "source": [
    "print(\"Total number of particles: \", pf.num_particles)"
   ]
  },
  {
   "cell_type": "code",
   "execution_count": 5,
   "metadata": {},
   "outputs": [
    {
     "data": {
      "text/plain": [
       "1000"
      ]
     },
     "execution_count": 5,
     "metadata": {},
     "output_type": "execute_result"
    }
   ],
   "source": [
    "# The number of particles at a specific time step\n",
    "pf.count[42]"
   ]
  },
  {
   "cell_type": "markdown",
   "metadata": {},
   "source": [
    "The time value at a given time is given by item notation `pf.time[n]`.\n",
    "The output is quite verbose. The `time` attribute is also callable, `pf.time(n)` gives\n",
    "a shorter and more readable string."
   ]
  },
  {
   "cell_type": "code",
   "execution_count": 6,
   "metadata": {},
   "outputs": [
    {
     "name": "stdout",
     "output_type": "stream",
     "text": [
      "<xarray.DataArray 'time' ()>\n",
      "array('1989-05-29T18:00:00.000000000', dtype='datetime64[ns]')\n",
      "Coordinates:\n",
      "    time     datetime64[ns] 1989-05-29T18:00:00\n",
      "Attributes:\n",
      "    long_name:      time\n",
      "    standard_name:  time\n"
     ]
    }
   ],
   "source": [
    "# Time value at given time step\n",
    "print(pf.time[42])"
   ]
  },
  {
   "cell_type": "code",
   "execution_count": 7,
   "metadata": {},
   "outputs": [
    {
     "name": "stdout",
     "output_type": "stream",
     "text": [
      "1989-05-29T18:00:00\n",
      "1989-05-29T18:00:00\n"
     ]
    }
   ],
   "source": [
    "# Two simpler ways to get the time info\n",
    "print(pf.time(42))\n",
    "print(str(pf.time[42].values).split('.')[0])"
   ]
  },
  {
   "cell_type": "code",
   "execution_count": 8,
   "metadata": {},
   "outputs": [
    {
     "name": "stdout",
     "output_type": "stream",
     "text": [
      "Instance variables: ['pid', 'X', 'Y', 'Z']\n",
      "Particle variables: ['release_time']\n"
     ]
    }
   ],
   "source": [
    "# The instance and particle variables\n",
    "print(\"Instance variables:\", pf.instance_variables)\n",
    "print(\"Particle variables:\", pf.particle_variables)"
   ]
  },
  {
   "cell_type": "markdown",
   "metadata": {},
   "source": [
    "Use the `ds` attribute to get the full underlying xarray Dataset."
   ]
  },
  {
   "cell_type": "code",
   "execution_count": 9,
   "metadata": {},
   "outputs": [
    {
     "data": {
      "text/plain": [
       "<xarray.Dataset>\n",
       "Dimensions:          (particle: 1000, particle_instance: 97000, time: 97)\n",
       "Coordinates:\n",
       "  * time             (time) datetime64[ns] 1989-05-24T12:00:00 ... 1989-06-05T12:00:00\n",
       "Dimensions without coordinates: particle, particle_instance\n",
       "Data variables:\n",
       "    instance_offset  int32 ...\n",
       "    particle_count   (time) int32 1000 1000 1000 1000 ... 1000 1000 1000 1000\n",
       "    release_time     (particle) datetime64[ns] 1989-05-24T12:00:00 ... 1989-05-24T12:00:00\n",
       "    pid              (particle_instance) int32 0 1 2 3 4 ... 995 996 997 998 999\n",
       "    X                (particle_instance) float32 63.55 63.61 ... 120.73037\n",
       "    Y                (particle_instance) float32 90.0 90.0 ... 91.50053 93.89576\n",
       "    Z                (particle_instance) float32 5.0 5.0 5.0 5.0 ... 5.0 5.0 5.0\n",
       "Attributes:\n",
       "    Conventions:  CF-1.5\n",
       "    institution:  Institute of Marine Research\n",
       "    source:       Lagrangian Advection and Diffusion Model, python version\n",
       "    history:      Created by pyladim\n",
       "    date:         2019-09-25"
      ]
     },
     "execution_count": 9,
     "metadata": {},
     "output_type": "execute_result"
    }
   ],
   "source": [
    "pf.ds"
   ]
  }
 ],
 "metadata": {
  "kernelspec": {
   "display_name": "Python 3",
   "language": "python",
   "name": "python3"
  },
  "language_info": {
   "codemirror_mode": {
    "name": "ipython",
    "version": 3
   },
   "file_extension": ".py",
   "mimetype": "text/x-python",
   "name": "python",
   "nbconvert_exporter": "python",
   "pygments_lexer": "ipython3",
   "version": "3.7.4"
  }
 },
 "nbformat": 4,
 "nbformat_minor": 2
}
